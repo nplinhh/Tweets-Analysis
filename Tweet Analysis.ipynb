{
 "cells": [
  {
   "cell_type": "code",
   "execution_count": 1,
   "id": "c18359d8",
   "metadata": {
    "id": "c18359d8"
   },
   "outputs": [],
   "source": [
    "from pyspark.sql import SparkSession\n",
    "from pyspark import SparkConf, SparkContext\n",
    "from pyspark.sql import Row\n",
    "from pyspark.sql.types import StringType, FloatType, IntegerType\n",
    "import pyspark.sql.functions as F\n",
    "from pyspark.ml.feature import HashingTF, IDF, Normalizer, Word2Vec, StringIndexer, IndexToString\n",
    "from pyspark.ml.recommendation import ALS\n",
    "from pyspark.ml.evaluation import RegressionEvaluator\n",
    "\n",
    "spark = SparkSession \\\n",
    "        .builder \\\n",
    "        .appName(\"Workload One\") \\\n",
    "        .getOrCreate()"
   ]
  },
  {
   "cell_type": "markdown",
   "id": "52f06142",
   "metadata": {
    "id": "52f06142"
   },
   "source": [
    "# Workload 1"
   ]
  },
  {
   "cell_type": "code",
   "execution_count": 2,
   "id": "9e83ed7d",
   "metadata": {
    "id": "9e83ed7d"
   },
   "outputs": [],
   "source": [
    "file_path = \"tweets.json\"\n",
    "tweets = spark.read.option(\"multiline\",\"true\").json(file_path)"
   ]
  },
  {
   "cell_type": "code",
   "execution_count": 3,
   "id": "8b4ecf87",
   "metadata": {
    "id": "8b4ecf87"
   },
   "outputs": [],
   "source": [
    "# Select 3 columns: user_id, replyto_id, and retweet_id; and change their type to Spark's StringType\n",
    "tweets1 = tweets.select(\"user_id\", \"replyto_id\", \"retweet_id\") \\\n",
    "                .withColumn(\"user_id\", tweets[\"user_id\"].cast(StringType())) \\\n",
    "                .withColumn(\"replyto_id\", tweets[\"replyto_id\"].cast(StringType())) \\\n",
    "                .withColumn(\"retweet_id\", tweets[\"retweet_id\"].cast(StringType()))\n",
    "\n",
    "# Using \"user_id\" as the Group By key, and collect all replyto_ids and retweet_ids associated with a particular user_id \n",
    "# and put the collected list into 2 separate columns (renamed as \"replyto_id_list\" and \"retweet_id_list\", respectively).\n",
    "tweets_uID_tID = tweets1.groupBy(\"user_id\") \\\n",
    "                        .agg \\\n",
    "                            (\n",
    "                                F.collect_list(\"replyto_id\"), \\\n",
    "                                F.collect_list(\"retweet_id\") \\\n",
    "                            ) \\\n",
    "                        .toDF(\"user_id\", \"replyto_id_list\", \"retweet_id_list\")\n",
    "\n",
    "# Concatenate 2 Dataframe columns, replyto_id_list and retweet_id_list, into 1 single list.\n",
    "tweets_uID_doc = tweets_uID_tID.select(\"user_id\", \\\n",
    "                                       F.concat(tweets_uID_tID.replyto_id_list, tweets_uID_tID.retweet_id_list)) \\\n",
    "                               .toDF(\"User_id\",\"Documentation\")"
   ]
  },
  {
   "cell_type": "code",
   "execution_count": 4,
   "id": "41522271",
   "metadata": {
    "id": "41522271"
   },
   "outputs": [],
   "source": [
    "# Manually set a given user ID here\n",
    "given_uID = '1054600164'"
   ]
  },
  {
   "cell_type": "code",
   "execution_count": 5,
   "id": "7b273a3d",
   "metadata": {
    "id": "7b273a3d"
   },
   "outputs": [],
   "source": [
    "# The function cosine_similarity_top_n below does the following:\n",
    "# 1. Cross Join (outer product) a given user ID to the dataframe (excluding the given user ID) to obtain 2 columns of \n",
    "# normalised vectors: 1 for the given user ID, and 1 that contains normalised vectors of all other user IDs.\n",
    "# 2. Calculate the dot product between each pair of normalised vectors (this dot product is equivalent to cosine similarity, \n",
    "# as no division is needed since the norm of any normalised vector is 1.\n",
    "# 3. Sort the resultant dataframe by cosine similarity, in descending order.\n",
    "# 4. Take top 5 and convert the Spark dataframe to Pandas dataframe, and return this result.\n",
    "\n",
    "def cosine_similarity_top_n(df, given_uID, norm_vector_name=\"norm\", top_n=5):\n",
    "    dot_udf = F.udf(lambda x,y: float(x.dot(y)), FloatType())\n",
    "    result = df.where(df.User_id == given_uID).alias(\"i\").crossJoin(df.where(df.User_id != given_uID).alias(\"j\"))\\\n",
    "                       .select( \\\n",
    "                               F.col(\"i.User_id\"), \\\n",
    "                               F.col(\"j.User_id\"), \\\n",
    "                               dot_udf(\"i.\"+norm_vector_name, \"j.\"+norm_vector_name).alias(\"cosine similarity\") \\\n",
    "                              ) \\\n",
    "                       .orderBy(\"cosine similarity\", ascending=False) \\\n",
    "                       .limit(top_n)\n",
    "    return result"
   ]
  },
  {
   "cell_type": "code",
   "execution_count": 6,
   "id": "8df6efc6",
   "metadata": {
    "colab": {
     "base_uri": "https://localhost:8080/"
    },
    "id": "8df6efc6",
    "outputId": "fb3f1688-f862-46fb-8ef1-6d1ae9441ca5"
   },
   "outputs": [
    {
     "name": "stdout",
     "output_type": "stream",
     "text": [
      "Using Word2Vec, top 5 users with similar interest as given user ID 1054600164 are:\n"
     ]
    },
    {
     "data": {
      "text/plain": [
       "[Row(User_id='1054600164', User_id='397424454', cosine similarity=1.0),\n",
       " Row(User_id='1054600164', User_id='608382409', cosine similarity=1.0),\n",
       " Row(User_id='1054600164', User_id='47771310', cosine similarity=1.0),\n",
       " Row(User_id='1054600164', User_id='714835347214110720', cosine similarity=1.0),\n",
       " Row(User_id='1054600164', User_id='2619879655', cosine similarity=1.0)]"
      ]
     },
     "execution_count": 6,
     "metadata": {},
     "output_type": "execute_result"
    }
   ],
   "source": [
    "# Using Word2Vec\n",
    "word2Vec = Word2Vec(inputCol=\"Documentation\", outputCol=\"word2vec\")\n",
    "model = word2Vec.fit(tweets_uID_doc)\n",
    "word2vec = model.transform(tweets_uID_doc)\n",
    "\n",
    "# Compute L2-norm (L2-normalising all vectors)\n",
    "normalizer = Normalizer(inputCol=\"word2vec\", outputCol=\"norm\")\n",
    "word2vec_norm = normalizer.transform(word2vec)\n",
    "\n",
    "result_word2vec = cosine_similarity_top_n(word2vec_norm, given_uID)\n",
    "print(f\"Using Word2Vec, top 5 users with similar interest as given user ID {given_uID} are:\")\n",
    "result_word2vec.collect()"
   ]
  },
  {
   "cell_type": "code",
   "execution_count": 7,
   "id": "68e53902",
   "metadata": {
    "colab": {
     "base_uri": "https://localhost:8080/"
    },
    "id": "68e53902",
    "outputId": "33ad8635-5e36-41c2-e4e4-9556875f1d68"
   },
   "outputs": [
    {
     "name": "stdout",
     "output_type": "stream",
     "text": [
      "Using TF-IDF, top 5 users with similar interest as given user ID 1054600164 are:\n"
     ]
    },
    {
     "data": {
      "text/plain": [
       "[Row(User_id='1054600164', User_id='47771310', cosine similarity=1.0),\n",
       " Row(User_id='1054600164', User_id='397424454', cosine similarity=1.0),\n",
       " Row(User_id='1054600164', User_id='714835347214110720', cosine similarity=1.0),\n",
       " Row(User_id='1054600164', User_id='2619879655', cosine similarity=1.0),\n",
       " Row(User_id='1054600164', User_id='845893680', cosine similarity=1.0)]"
      ]
     },
     "execution_count": 7,
     "metadata": {},
     "output_type": "execute_result"
    }
   ],
   "source": [
    "# Compute TF-IDF\n",
    "hashingTF = HashingTF(inputCol=\"Documentation\", outputCol=\"tf\")\n",
    "tf = hashingTF.transform(tweets_uID_doc)\n",
    "\n",
    "idf = IDF(inputCol=\"tf\", outputCol=\"tfidf\").fit(tf)\n",
    "tfidf = idf.transform(tf)\n",
    "\n",
    "# Compute L2-norm (L2-normalising all vectors)\n",
    "normalizer = Normalizer(inputCol=\"tfidf\", outputCol=\"norm\")\n",
    "tfidf_norm = normalizer.transform(tfidf)\n",
    "\n",
    "# Compute cosine similarity between 1 vector to the rest\n",
    "# Note: for any pair of normalised vectors, we only need their vector product to calculate cosine similarity,\n",
    "# because the norm of any normalised vectors (done above) = 1\n",
    "\n",
    "dot_udf = F.udf(lambda x,y: float(x.dot(y)), FloatType())\n",
    "\n",
    "result_tfidf = cosine_similarity_top_n(tfidf_norm, given_uID)\n",
    "\n",
    "print(f\"Using TF-IDF, top 5 users with similar interest as given user ID {given_uID} are:\")\n",
    "result_tfidf.collect()"
   ]
  },
  {
   "cell_type": "markdown",
   "id": "146830ac",
   "metadata": {
    "id": "146830ac"
   },
   "source": [
    "# Workload 2"
   ]
  },
  {
   "cell_type": "code",
   "execution_count": 8,
   "id": "9b6ffda2",
   "metadata": {
    "colab": {
     "base_uri": "https://localhost:8080/"
    },
    "id": "9b6ffda2",
    "outputId": "d9e61051-6776-4360-d352-b563e045bb0b"
   },
   "outputs": [
    {
     "name": "stdout",
     "output_type": "stream",
     "text": [
      "+-------------------+--------------------+\n",
      "|            user_id|       user_mentions|\n",
      "+-------------------+--------------------+\n",
      "|           17799542| [[807095, [3, 11]]]|\n",
      "|         1166466828|[[380648579, [3, ...|\n",
      "|1343606436149022723|[[191807697, [3, ...|\n",
      "| 930226031276982273|[[15115280, [3, 1...|\n",
      "| 920858307392192513| [[807095, [3, 11]]]|\n",
      "|           21458110|[[20402945, [3, 8...|\n",
      "| 787062740183552000|[[26574283, [3, 1...|\n",
      "|          392646132|                null|\n",
      "|         2955789098| [[807095, [3, 11]]]|\n",
      "| 792380204287164416|                null|\n",
      "|          198453947| [[807095, [3, 11]]]|\n",
      "|         1431726547|[[15115280, [3, 1...|\n",
      "|1245145031045980163|[[26574283, [3, 1...|\n",
      "|         2181244875|[[36326893, [3, 1...|\n",
      "|           34865264|[[26574283, [3, 1...|\n",
      "|          179912903|[[3094649957, [3,...|\n",
      "|1173096863840423941|[[846411464885747...|\n",
      "|          491594719|[[15250661, [119,...|\n",
      "|           40404318|[[7788062, [3, 11]]]|\n",
      "|1326851827879604226|[[3094649957, [3,...|\n",
      "+-------------------+--------------------+\n",
      "only showing top 20 rows\n",
      "\n"
     ]
    }
   ],
   "source": [
    "tweets \\\n",
    "      .select(\"user_id\",\"user_mentions\") \\\n",
    "      .show()"
   ]
  },
  {
   "cell_type": "code",
   "execution_count": 9,
   "id": "d562be28",
   "metadata": {
    "colab": {
     "base_uri": "https://localhost:8080/"
    },
    "id": "d562be28",
    "outputId": "b489e141-ca64-4fe8-8169-5e27d0ae1700"
   },
   "outputs": [
    {
     "name": "stdout",
     "output_type": "stream",
     "text": [
      "+-------------------+--------------------+--------------------+\n",
      "|            user_id|       user_mentions|        user_mention|\n",
      "+-------------------+--------------------+--------------------+\n",
      "|           17799542| [[807095, [3, 11]]]|   [807095, [3, 11]]|\n",
      "|         1166466828|[[380648579, [3, ...| [380648579, [3, 7]]|\n",
      "|1343606436149022723|[[191807697, [3, ...|[191807697, [3, 16]]|\n",
      "| 930226031276982273|[[15115280, [3, 1...| [15115280, [3, 16]]|\n",
      "| 920858307392192513| [[807095, [3, 11]]]|   [807095, [3, 11]]|\n",
      "|           21458110|[[20402945, [3, 8...|  [20402945, [3, 8]]|\n",
      "|           21458110|[[20402945, [3, 8...|[21802625, [130, ...|\n",
      "| 787062740183552000|[[26574283, [3, 1...| [26574283, [3, 11]]|\n",
      "|         2955789098| [[807095, [3, 11]]]|   [807095, [3, 11]]|\n",
      "|          198453947| [[807095, [3, 11]]]|   [807095, [3, 11]]|\n",
      "|         1431726547|[[15115280, [3, 1...| [15115280, [3, 16]]|\n",
      "|1245145031045980163|[[26574283, [3, 1...| [26574283, [3, 11]]|\n",
      "|         2181244875|[[36326893, [3, 1...| [36326893, [3, 13]]|\n",
      "|         2181244875|[[36326893, [3, 1...|[1146329871418843...|\n",
      "|         2181244875|[[36326893, [3, 1...|[42183750, [106, ...|\n",
      "|         2181244875|[[36326893, [3, 1...|[1003895325025865...|\n",
      "|           34865264|[[26574283, [3, 1...| [26574283, [3, 11]]|\n",
      "|          179912903|[[3094649957, [3,...|[3094649957, [3, ...|\n",
      "|          179912903|[[3094649957, [3,...|[24259259, [17, 23]]|\n",
      "|          179912903|[[3094649957, [3,...|[21802625, [129, ...|\n",
      "+-------------------+--------------------+--------------------+\n",
      "only showing top 20 rows\n",
      "\n"
     ]
    }
   ],
   "source": [
    "# Key function: explode\n",
    "\n",
    "tweets \\\n",
    "      .select(\"user_id\",\"user_mentions\") \\\n",
    "      .withColumn(\"user_mention\", F.explode(\"user_mentions\")) \\\n",
    "      .show()"
   ]
  },
  {
   "cell_type": "code",
   "execution_count": 10,
   "id": "d3a2deec",
   "metadata": {
    "colab": {
     "base_uri": "https://localhost:8080/"
    },
    "id": "d3a2deec",
    "outputId": "c63dddc6-8a2f-4b01-ca41-6400e6c833f6"
   },
   "outputs": [
    {
     "name": "stdout",
     "output_type": "stream",
     "text": [
      "+-------------------+-------------------+\n",
      "|            user_id|    user_mention_id|\n",
      "+-------------------+-------------------+\n",
      "|           17799542|             807095|\n",
      "|         1166466828|          380648579|\n",
      "|1343606436149022723|          191807697|\n",
      "| 930226031276982273|           15115280|\n",
      "| 920858307392192513|             807095|\n",
      "|           21458110|           20402945|\n",
      "|           21458110|           21802625|\n",
      "| 787062740183552000|           26574283|\n",
      "|         2955789098|             807095|\n",
      "|          198453947|             807095|\n",
      "|         1431726547|           15115280|\n",
      "|1245145031045980163|           26574283|\n",
      "|         2181244875|           36326893|\n",
      "|         2181244875|1146329871418843136|\n",
      "|         2181244875|           42183750|\n",
      "|         2181244875|1003895325025865730|\n",
      "|           34865264|           26574283|\n",
      "|          179912903|         3094649957|\n",
      "|          179912903|           24259259|\n",
      "|          179912903|           21802625|\n",
      "+-------------------+-------------------+\n",
      "only showing top 20 rows\n",
      "\n"
     ]
    }
   ],
   "source": [
    "# Key function 1: explode\n",
    "# Key function 2: getField\n",
    "\n",
    "tweets \\\n",
    "      .select(\"user_id\",\"user_mentions\") \\\n",
    "      .withColumn(\"user_mention\", F.explode(\"user_mentions\")) \\\n",
    "      .withColumn(\"user_mention_id\", F.col(\"user_mention\").getField(\"id\")) \\\n",
    "      .select(\"user_id\", \"user_mention_id\") \\\n",
    "      .show()"
   ]
  },
  {
   "cell_type": "code",
   "execution_count": 11,
   "id": "b4b69b4c",
   "metadata": {
    "colab": {
     "base_uri": "https://localhost:8080/"
    },
    "id": "b4b69b4c",
    "outputId": "7b642b51-a37b-4960-e996-7d195abc007b"
   },
   "outputs": [
    {
     "name": "stdout",
     "output_type": "stream",
     "text": [
      "+-------------------+------------------+-----+\n",
      "|            user_id|   user_mention_id|count|\n",
      "+-------------------+------------------+-----+\n",
      "|         3094649957|          24259259|    6|\n",
      "| 898230537244073986|         281877818|    3|\n",
      "|         3094649957|        3094649957|    3|\n",
      "|1286417148848480257|          55060090|    3|\n",
      "|           97950174|         380648579|    2|\n",
      "|1343557199394525186|         380648579|    2|\n",
      "|1379485472158842887|          56488059|    2|\n",
      "| 722337933907398656|         380648579|    2|\n",
      "|1331611799053955073|          17674244|    2|\n",
      "|          175604092|842678603305377793|    2|\n",
      "| 918084577377136640|            807095|    2|\n",
      "|          138011877|         380648579|    2|\n",
      "|          372409362|           9814812|    2|\n",
      "|          473714282|          19881665|    2|\n",
      "|1345652009618255872|        1643123766|    2|\n",
      "|          205463662|         380648579|    2|\n",
      "|          109025128|          61863570|    2|\n",
      "|          480875170|         380648579|    2|\n",
      "|          166579962|         380648579|    2|\n",
      "|           36968645|          22429979|    2|\n",
      "+-------------------+------------------+-----+\n",
      "only showing top 20 rows\n",
      "\n"
     ]
    }
   ],
   "source": [
    "df = tweets \\\n",
    "      .select(\"user_id\",\"user_mentions\") \\\n",
    "      .withColumn(\"user_mention\", F.explode(\"user_mentions\")) \\\n",
    "      .withColumn(\"user_mention_id\", F.col(\"user_mention\").getField(\"id\")) \\\n",
    "      .select(\"user_id\", \"user_mention_id\") \\\n",
    "      .groupBy(\"user_id\", \"user_mention_id\", ).count() \\\n",
    "      .orderBy(\"count\", ascending=False) \\\n",
    "\n",
    "df.show()"
   ]
  },
  {
   "cell_type": "code",
   "execution_count": 12,
   "id": "74609b4f",
   "metadata": {
    "colab": {
     "base_uri": "https://localhost:8080/"
    },
    "id": "74609b4f",
    "outputId": "206cf45c-f81d-403d-b17c-c706115c950a"
   },
   "outputs": [
    {
     "name": "stdout",
     "output_type": "stream",
     "text": [
      "+-------------------+---------------+-----+---------------+-----------------------+\n",
      "|            user_id|user_mention_id|count|user_id_indexed|user_mention_id_indexed|\n",
      "+-------------------+---------------+-----+---------------+-----------------------+\n",
      "|         3094649957|       24259259|  6.0|            262|                    164|\n",
      "|         3094649957|     3094649957|  3.0|            262|                    161|\n",
      "| 898230537244073986|      281877818|  3.0|            904|                    140|\n",
      "|1286417148848480257|       55060090|  3.0|            438|                    138|\n",
      "|1343557199394525186|      380648579|  2.0|            271|                      2|\n",
      "| 722337933907398656|      380648579|  2.0|            298|                      2|\n",
      "|          138011877|      380648579|  2.0|           5527|                      2|\n",
      "|           97950174|      380648579|  2.0|           7534|                      2|\n",
      "|          166579962|      380648579|  2.0|           4889|                      2|\n",
      "|           36968645|       22429979|  2.0|           4159|                     16|\n",
      "|1379485472158842887|       20457806|  2.0|              0|                    337|\n",
      "| 821566790891278337|      380648579|  2.0|           5052|                      2|\n",
      "|          372409362|        9814812|  2.0|             13|                    428|\n",
      "|1331611799053955073|       17674244|  2.0|            680|                    356|\n",
      "|1343362946852937728|     1643123766|  2.0|           7386|                    173|\n",
      "|          473714282|       19881665|  2.0|           5494|                     34|\n",
      "|          480875170|      380648579|  2.0|              1|                      2|\n",
      "| 918084577377136640|         807095|  2.0|           1114|                      0|\n",
      "|1345652009618255872|     1643123766|  2.0|           2113|                    173|\n",
      "|          205463662|      380648579|  2.0|           6768|                      2|\n",
      "+-------------------+---------------+-----+---------------+-----------------------+\n",
      "only showing top 20 rows\n",
      "\n"
     ]
    }
   ],
   "source": [
    "indexer_user_id = StringIndexer(inputCol=\"user_id\", outputCol=\"user_id_indexed\")\n",
    "indexer_user_mention_id = StringIndexer(inputCol=\"user_mention_id\", outputCol=\"user_mention_id_indexed\")\n",
    "\n",
    "df_indexed1 = indexer_user_id.fit(df).transform(df)\n",
    "df_indexed2 = indexer_user_mention_id \\\n",
    "                                          .fit(df_indexed1).transform(df_indexed1)\n",
    "df_indexed_final = df_indexed2 \\\n",
    "                      .withColumn(\"user_id_indexed\", df_indexed2[\"user_id_indexed\"].cast(IntegerType())) \\\n",
    "                      .withColumn(\"user_mention_id_indexed\", df_indexed2[\"user_mention_id_indexed\"].cast(IntegerType())) \\\n",
    "                      .withColumn(\"count\", df_indexed2[\"count\"].cast(FloatType()))\n",
    "\n",
    "df_indexed_final.show()"
   ]
  },
  {
   "cell_type": "code",
   "execution_count": 13,
   "id": "l1qWOboSP4M7",
   "metadata": {
    "colab": {
     "base_uri": "https://localhost:8080/"
    },
    "id": "l1qWOboSP4M7",
    "outputId": "aa104e7b-5b5f-47b6-9f9e-a036ce2a6c5e"
   },
   "outputs": [
    {
     "name": "stdout",
     "output_type": "stream",
     "text": [
      "+------------------+-------------------+-----+---------------+-----------------------+\n",
      "|           user_id|    user_mention_id|count|user_id_indexed|user_mention_id_indexed|\n",
      "+------------------+-------------------+-----+---------------+-----------------------+\n",
      "|822561271115550723|1238850236056924160|  1.0|             27|                    608|\n",
      "+------------------+-------------------+-----+---------------+-----------------------+\n",
      "\n"
     ]
    }
   ],
   "source": [
    "df_indexed_final.where(df_indexed_final.user_mention_id_indexed == 608).show()"
   ]
  },
  {
   "cell_type": "code",
   "execution_count": 14,
   "id": "a1ecd121",
   "metadata": {
    "colab": {
     "base_uri": "https://localhost:8080/"
    },
    "id": "a1ecd121",
    "outputId": "6efc15d4-efc0-4a1d-d644-23c64da00236"
   },
   "outputs": [],
   "source": [
    "(training, test) = df_indexed_final.randomSplit([0.8, 0.2])\n",
    "\n",
    "# Build the recommendation model using ALS on the training data\n",
    "als = ALS(userCol=\"user_id_indexed\", itemCol=\"user_mention_id_indexed\", ratingCol=\"count\")\n",
    "model = als.fit(training)\n",
    "\n",
    "# Evaluate the model by computing the RMSE on the test data\n",
    "predictions = model.transform(test)\n",
    "evaluator = RegressionEvaluator(metricName=\"rmse\", labelCol=\"count\", predictionCol=\"prediction\")\n",
    "rmse = evaluator.evaluate(predictions)"
   ]
  },
  {
   "cell_type": "code",
   "execution_count": 15,
   "id": "ffed789a",
   "metadata": {
    "colab": {
     "base_uri": "https://localhost:8080/"
    },
    "id": "ffed789a",
    "outputId": "50308efd-0111-4613-85ac-1ab6568c1453"
   },
   "outputs": [
    {
     "name": "stdout",
     "output_type": "stream",
     "text": [
      "+-------------------+------------------+-----+---------------+-----------------------+-----------+\n",
      "|            user_id|   user_mention_id|count|user_id_indexed|user_mention_id_indexed| prediction|\n",
      "+-------------------+------------------+-----+---------------+-----------------------+-----------+\n",
      "| 824684311827738624|        4319416272|  1.0|            293|                    471|        NaN|\n",
      "|           95273513|          35240968|  1.0|           7598|                    737|        NaN|\n",
      "|          226390770|           1917731|  1.0|           6610|                     31|        NaN|\n",
      "|          320346750|           1917731|  1.0|            194|                     31|-0.09003855|\n",
      "| 952740986064703488|           1917731|  1.0|             62|                     31|-0.09651223|\n",
      "|           16172991|           1917731|  1.0|            354|                     31|        NaN|\n",
      "|          197489550|           1917731|  1.0|           4283|                     31|        NaN|\n",
      "|          483503640|        2292454922|  1.0|            513|                    516|        NaN|\n",
      "|1281647816234827779|          14159148|  1.0|              5|                     85|  0.8763095|\n",
      "|1296132239105941504|837335683215798272|  1.0|             60|                    251|        NaN|\n",
      "|         3148384150|837335683215798272|  1.0|            104|                    251|        NaN|\n",
      "|           16363958|738767160395321345|  1.0|            332|                     65|  0.5960815|\n",
      "| 805575049356935168|738767160395321345|  1.0|            457|                     65|  0.4513773|\n",
      "|           54979466|          69778893|  1.0|             50|                    458|        NaN|\n",
      "|          214144344|         114968487|  1.0|            451|                     53| 0.90056694|\n",
      "|           48997070|         114968487|  1.0|            862|                     53| 0.90056694|\n",
      "|         4835503228|         114968487|  1.0|            913|                     53| 0.90056694|\n",
      "|          245587515|         783792992|  1.0|            439|                    296|  0.9000989|\n",
      "|           59066390|         121181001|  1.0|           7380|                     78|        NaN|\n",
      "|          164983113|         121181001|  1.0|           5419|                     78|        NaN|\n",
      "+-------------------+------------------+-----+---------------+-----------------------+-----------+\n",
      "only showing top 20 rows\n",
      "\n"
     ]
    }
   ],
   "source": [
    "predictions.show()"
   ]
  },
  {
   "cell_type": "code",
   "execution_count": 16,
   "id": "63c674ee",
   "metadata": {
    "id": "63c674ee"
   },
   "outputs": [],
   "source": [
    "top_n = 5\n",
    "userRecs = model.recommendForAllUsers(top_n)"
   ]
  },
  {
   "cell_type": "code",
   "execution_count": 17,
   "id": "eLLMceXPL2JW",
   "metadata": {
    "colab": {
     "base_uri": "https://localhost:8080/"
    },
    "id": "eLLMceXPL2JW",
    "outputId": "9401dc8d-ddda-4f4a-c6bf-8617c839a592"
   },
   "outputs": [
    {
     "name": "stdout",
     "output_type": "stream",
     "text": [
      "+---------------+--------------------+\n",
      "|user_id_indexed|     recommendations|\n",
      "+---------------+--------------------+\n",
      "|           1580|[[164, 1.6341316]...|\n",
      "|           4900|[[164, 1.6341316]...|\n",
      "|           5300|[[1, 0.9006183], ...|\n",
      "|           6620|[[164, 1.6341316]...|\n",
      "|           7340|[[1, 0.9006183], ...|\n",
      "|           7880|[[1, 0.9006183], ...|\n",
      "|           1591|[[308, 0.8998625]...|\n",
      "|           1342|[[1, 0.9006183], ...|\n",
      "|           2142|[[1, 0.9006183], ...|\n",
      "|           7982|[[300, 1.1054603]...|\n",
      "|            463|[[164, 1.9966516]...|\n",
      "|            833|[[164, 1.1863202]...|\n",
      "|           5803|[[1, 0.9006183], ...|\n",
      "|           7253|[[1, 0.9006183], ...|\n",
      "|           7833|[[164, 1.6341316]...|\n",
      "|           6654|[[164, 0.9159051]...|\n",
      "|           7754|[[300, 0.9351011]...|\n",
      "|           3175|[[1, 0.9006183], ...|\n",
      "|           4935|[[26, 0.90466726]...|\n",
      "|            496|[[1, 0.9006183], ...|\n",
      "+---------------+--------------------+\n",
      "only showing top 20 rows\n",
      "\n"
     ]
    }
   ],
   "source": [
    "userRecs.show()"
   ]
  },
  {
   "cell_type": "code",
   "execution_count": 18,
   "id": "828cf096",
   "metadata": {
    "colab": {
     "base_uri": "https://localhost:8080/"
    },
    "id": "828cf096",
    "outputId": "0f74598a-76c8-4508-8be2-cc7037a9f9e8"
   },
   "outputs": [
    {
     "name": "stdout",
     "output_type": "stream",
     "text": [
      "+---------------+-----------------------+\n",
      "|user_id_indexed|user_mention_id_indexed|\n",
      "+---------------+-----------------------+\n",
      "|           1580|                    164|\n",
      "|           1580|                    298|\n",
      "|           1580|                    337|\n",
      "|           1580|                    722|\n",
      "|           1580|                      0|\n",
      "|           4900|                    164|\n",
      "|           4900|                    298|\n",
      "|           4900|                    337|\n",
      "|           4900|                    722|\n",
      "|           4900|                      0|\n",
      "|           5300|                      1|\n",
      "|           5300|                    502|\n",
      "|           5300|                    126|\n",
      "|           5300|                    688|\n",
      "|           5300|                    201|\n",
      "|           6620|                    164|\n",
      "|           6620|                    298|\n",
      "|           6620|                    337|\n",
      "|           6620|                    722|\n",
      "|           6620|                      0|\n",
      "+---------------+-----------------------+\n",
      "only showing top 20 rows\n",
      "\n"
     ]
    }
   ],
   "source": [
    "userRecs1 = userRecs \\\n",
    "                        .withColumn(\"recommendation\", F.explode(\"recommendations\")) \\\n",
    "                        .withColumn(\"user_mention_id_indexed\", F.col(\"recommendation\").getField(\"user_mention_id_indexed\")) \\\n",
    "                        .select(\"user_id_indexed\", \"user_mention_id_indexed\")\n",
    "\n",
    "userRecs1.show()"
   ]
  },
  {
   "cell_type": "code",
   "execution_count": 19,
   "id": "sn-JcK9QQV12",
   "metadata": {
    "id": "sn-JcK9QQV12"
   },
   "outputs": [],
   "source": [
    "new_index = df_indexed_final.select(\"user_id\",\"user_id_indexed\").distinct()\n",
    "new_index1 = df_indexed_final.select(\"user_mention_id\",\"user_mention_id_indexed\").distinct()\n"
   ]
  },
  {
   "cell_type": "code",
   "execution_count": 20,
   "id": "MmPlrjejGwoF",
   "metadata": {
    "colab": {
     "base_uri": "https://localhost:8080/"
    },
    "id": "MmPlrjejGwoF",
    "outputId": "c77702de-d9e9-49e8-a391-2f880825e41a"
   },
   "outputs": [
    {
     "name": "stdout",
     "output_type": "stream",
     "text": [
      "+-------------------+-----------------------+\n",
      "|    user_mention_id|user_mention_id_indexed|\n",
      "+-------------------+-----------------------+\n",
      "|1108054880139264000|                    123|\n",
      "| 887306762801614848|                    687|\n",
      "|1343992358371799042|                    413|\n",
      "|         2248932158|                    712|\n",
      "|           15766082|                    160|\n",
      "|           66723691|                    344|\n",
      "|          528820859|                    227|\n",
      "| 962490153007710208|                    386|\n",
      "|           56488059|                    722|\n",
      "|1358117090268446721|                     51|\n",
      "|           97273575|                    242|\n",
      "| 867744392223887360|                    142|\n",
      "|          271319718|                    472|\n",
      "|           15907183|                    110|\n",
      "|1063180083769176064|                    545|\n",
      "|           29083969|                    755|\n",
      "|         2162764543|                    346|\n",
      "|1352453439796768768|                    738|\n",
      "|1341019687614820358|                    254|\n",
      "|1177292140734341120|                    734|\n",
      "+-------------------+-----------------------+\n",
      "only showing top 20 rows\n",
      "\n"
     ]
    }
   ],
   "source": [
    "new_index1.show()"
   ]
  },
  {
   "cell_type": "code",
   "execution_count": 21,
   "id": "QU89X7P2z4cL",
   "metadata": {
    "colab": {
     "base_uri": "https://localhost:8080/"
    },
    "id": "QU89X7P2z4cL",
    "outputId": "a7670b39-9afe-41db-8287-be423025f74a"
   },
   "outputs": [
    {
     "name": "stdout",
     "output_type": "stream",
     "text": [
      "+-------------------+-----------------------+\n",
      "|            user_id|user_mention_id_indexed|\n",
      "+-------------------+-----------------------+\n",
      "|1390066304611192832|                      1|\n",
      "|1390066304611192832|                    502|\n",
      "|1390066304611192832|                    688|\n",
      "|1390066304611192832|                    201|\n",
      "|1390066304611192832|                    126|\n",
      "|1390042324105760768|                     14|\n",
      "|1390042324105760768|                    337|\n",
      "|1390042324105760768|                    525|\n",
      "|1390042324105760768|                     66|\n",
      "|1390042324105760768|                    722|\n",
      "|1389884106394243075|                    327|\n",
      "|1389884106394243075|                    258|\n",
      "|1389884106394243075|                     80|\n",
      "|1389884106394243075|                     43|\n",
      "|1389884106394243075|                    156|\n",
      "|1389558006837391363|                    115|\n",
      "|1389558006837391363|                    231|\n",
      "|1389558006837391363|                      5|\n",
      "|1389558006837391363|                     98|\n",
      "|1389558006837391363|                    140|\n",
      "+-------------------+-----------------------+\n",
      "only showing top 20 rows\n",
      "\n"
     ]
    }
   ],
   "source": [
    "userRecs2 = userRecs1.join(new_index, on =\"user_id_indexed\").select(\"user_id\",\"user_mention_id_indexed\").orderBy(\"user_id\", ascending=False) \n",
    "userRecs2.show()"
   ]
  },
  {
   "cell_type": "code",
   "execution_count": 22,
   "id": "ZWRzhMaZLb6l",
   "metadata": {
    "colab": {
     "base_uri": "https://localhost:8080/"
    },
    "id": "ZWRzhMaZLb6l",
    "outputId": "86c9ecc3-98f4-426e-a18f-c5251f161541"
   },
   "outputs": [
    {
     "name": "stdout",
     "output_type": "stream",
     "text": [
      "+-------------------+-------------------+\n",
      "|            user_id|    user_mention_id|\n",
      "+-------------------+-------------------+\n",
      "|1390066304611192832|         3300064909|\n",
      "|1390066304611192832|          185025785|\n",
      "|1390066304611192832|           26574283|\n",
      "|1390066304611192832| 996693014251585536|\n",
      "|1390066304611192832|1203444885287821312|\n",
      "|1390042324105760768|           20457806|\n",
      "|1390042324105760768|            5392522|\n",
      "|1390042324105760768|         2361630415|\n",
      "|1390042324105760768|            9300262|\n",
      "|1390042324105760768|           56488059|\n",
      "|1389884106394243075| 918579142416830466|\n",
      "|1389884106394243075|            1652541|\n",
      "|1389884106394243075|          221718444|\n",
      "|1389884106394243075|           36326893|\n",
      "|1389884106394243075|          298217736|\n",
      "|1389558006837391363|           15115280|\n",
      "|1389558006837391363|          224329419|\n",
      "|1389558006837391363|          281877818|\n",
      "|1389558006837391363|         2318270108|\n",
      "|1389558006837391363| 807357676300730368|\n",
      "+-------------------+-------------------+\n",
      "only showing top 20 rows\n",
      "\n"
     ]
    }
   ],
   "source": [
    "userRecs3 = new_index1.join(userRecs2, on=\"user_mention_id_indexed\",how = \"outer\").select(\"user_id\", \"user_mention_id\").orderBy(\"user_id\", ascending=False) \n",
    "userRecs3.show()"
   ]
  },
  {
   "cell_type": "code",
   "execution_count": 23,
   "id": "nEyYz8IzFOYO",
   "metadata": {
    "colab": {
     "base_uri": "https://localhost:8080/"
    },
    "id": "nEyYz8IzFOYO",
    "outputId": "04bb5c90-53fc-4c5e-8fe2-75e0f4749ec4"
   },
   "outputs": [
    {
     "name": "stdout",
     "output_type": "stream",
     "text": [
      "+-------------------+--------------------+\n",
      "|            user_id|      Recommendation|\n",
      "+-------------------+--------------------+\n",
      "|1390066304611192832|[9966930142515855...|\n",
      "|1390042324105760768|[2361630415, 5392...|\n",
      "|1389884106394243075|[9185791424168304...|\n",
      "|1389558006837391363|[8073576763007303...|\n",
      "|1389350768348737537|[32828872, 242592...|\n",
      "|1388954835656007681|[9966930142515855...|\n",
      "|1388879909712498688|[24259259, 124401...|\n",
      "|1388359473056690180|[9966930142515855...|\n",
      "|1388207843812151296|[9966930142515855...|\n",
      "|1387168414221938690|[250917489, 32043...|\n",
      "|1386511248666234882|[1203444885287821...|\n",
      "|1386393460685430786|[24259259, 124401...|\n",
      "|1385988241518592006|[24259259, 124401...|\n",
      "|1385979253104205825|[9966930142515855...|\n",
      "|1385930603581771776|[24259259, 124401...|\n",
      "|1385678014919348225|[32828872, 100508...|\n",
      "|1385654656248938496|[32828872, 100508...|\n",
      "|1385358484573761537|[24259259, 124401...|\n",
      "|1385355916376215556|[24259259, 124401...|\n",
      "|1385344825965400067|[428333, 90918200...|\n",
      "+-------------------+--------------------+\n",
      "only showing top 20 rows\n",
      "\n"
     ]
    }
   ],
   "source": [
    "userRecs4 = userRecs3.groupBy(\"user_id\").agg(F.collect_list(\"user_mention_id\").alias(\"Recommendation\"))\n",
    "userRecs4.show()"
   ]
  },
  {
   "cell_type": "code",
   "execution_count": 27,
   "id": "b0ca9f15",
   "metadata": {},
   "outputs": [
    {
     "name": "stdout",
     "output_type": "stream",
     "text": [
      "+-------------------+-------------------+-------------------+-------------------+----------------+------------------+\n",
      "|            user_id|   Recommendation 1|   Recommendation 2|   Recommendation 3|Recommendation 4|  Recommendation 5|\n",
      "+-------------------+-------------------+-------------------+-------------------+----------------+------------------+\n",
      "|1390066304611192832| 996693014251585536|1203444885287821312|           26574283|      3300064909|         185025785|\n",
      "|1390042324105760768|         2361630415|            5392522|           20457806|        56488059|           9300262|\n",
      "|1389884106394243075| 918579142416830466|          298217736|            1652541|        36326893|         221718444|\n",
      "|1389558006837391363| 807357676300730368|          281877818|           15115280|       224329419|        2318270108|\n",
      "|1389350768348737537|           32828872|           24259259|           94482117|         4970411|         380648579|\n",
      "|1388954835656007681| 996693014251585536|1203444885287821312|           26574283|      3300064909|         185025785|\n",
      "|1388879909712498688|           24259259|1244013067790364673|           20457806|        56488059|            807095|\n",
      "|1388359473056690180| 996693014251585536|1203444885287821312|           26574283|      3300064909|         185025785|\n",
      "|1388207843812151296| 996693014251585536|1203444885287821312|           26574283|      3300064909|         185025785|\n",
      "|1387168414221938690|          250917489|          320432933|           16129920|        17839398|         172867574|\n",
      "|1386511248666234882|1203444885287821312|           26574283|         3300064909|        23085502|          15766082|\n",
      "|1386393460685430786|           24259259|1244013067790364673|           20457806|        56488059|            807095|\n",
      "|1385988241518592006|           24259259|1244013067790364673|           20457806|        56488059|            807095|\n",
      "|1385979253104205825| 996693014251585536|1203444885287821312|           26574283|      3300064909|         185025785|\n",
      "|1385930603581771776|           24259259|1244013067790364673|           20457806|        56488059|            807095|\n",
      "|1385678014919348225|           32828872|1005085697018138624|         1656958189|       100248020|         380648579|\n",
      "|1385654656248938496|           32828872|1005085697018138624|         1656958189|       100248020|         380648579|\n",
      "|1385358484573761537|           24259259|1244013067790364673|           20457806|        56488059|            807095|\n",
      "|1385355916376215556|           24259259|1244013067790364673|           20457806|        56488059|            807095|\n",
      "|1385344825965400067|             428333|           90918200|1278694316752490500|       312292448|982370911759323136|\n",
      "+-------------------+-------------------+-------------------+-------------------+----------------+------------------+\n",
      "only showing top 20 rows\n",
      "\n"
     ]
    }
   ],
   "source": [
    "userRecs4.withColumn(\"Recommendation 1\",userRecs4.Recommendation.getItem(0))\\\n",
    "         .withColumn(\"Recommendation 2\",userRecs4.Recommendation.getItem(1))\\\n",
    "         .withColumn(\"Recommendation 3\",userRecs4.Recommendation.getItem(2))\\\n",
    "         .withColumn(\"Recommendation 4\",userRecs4.Recommendation.getItem(3))\\\n",
    "         .withColumn(\"Recommendation 5\",userRecs4.Recommendation.getItem(4))\\\n",
    "         .select(\"user_id\", \"Recommendation 1\", \"Recommendation 2\", \"Recommendation 3\", \"Recommendation 4\", \"Recommendation 5\").show()"
   ]
  },
  {
   "cell_type": "code",
   "execution_count": null,
   "id": "3bd475d8",
   "metadata": {},
   "outputs": [],
   "source": []
  }
 ],
 "metadata": {
  "colab": {
   "collapsed_sections": [],
   "name": "Assignment-2 (TS) 2021.05.24 (Colab version).ipynb",
   "provenance": []
  },
  "kernelspec": {
   "display_name": "Python 3 (ipykernel)",
   "language": "python",
   "name": "python3"
  },
  "language_info": {
   "codemirror_mode": {
    "name": "ipython",
    "version": 3
   },
   "file_extension": ".py",
   "mimetype": "text/x-python",
   "name": "python",
   "nbconvert_exporter": "python",
   "pygments_lexer": "ipython3",
   "version": "3.9.7"
  }
 },
 "nbformat": 4,
 "nbformat_minor": 5
}
